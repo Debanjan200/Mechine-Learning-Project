{
 "cells": [
  {
   "cell_type": "code",
   "execution_count": 1,
   "metadata": {},
   "outputs": [],
   "source": [
    "import numpy as np\n",
    "import pandas as pd"
   ]
  },
  {
   "cell_type": "code",
   "execution_count": 2,
   "metadata": {},
   "outputs": [
    {
     "data": {
      "text/html": [
       "<div>\n",
       "<style scoped>\n",
       "    .dataframe tbody tr th:only-of-type {\n",
       "        vertical-align: middle;\n",
       "    }\n",
       "\n",
       "    .dataframe tbody tr th {\n",
       "        vertical-align: top;\n",
       "    }\n",
       "\n",
       "    .dataframe thead th {\n",
       "        text-align: right;\n",
       "    }\n",
       "</style>\n",
       "<table border=\"1\" class=\"dataframe\">\n",
       "  <thead>\n",
       "    <tr style=\"text-align: right;\">\n",
       "      <th></th>\n",
       "      <th>Unnamed: 0</th>\n",
       "      <th>label</th>\n",
       "      <th>text</th>\n",
       "      <th>label_num</th>\n",
       "    </tr>\n",
       "  </thead>\n",
       "  <tbody>\n",
       "    <tr>\n",
       "      <th>0</th>\n",
       "      <td>605</td>\n",
       "      <td>ham</td>\n",
       "      <td>Subject: enron methanol ; meter # : 988291\\r\\n...</td>\n",
       "      <td>0</td>\n",
       "    </tr>\n",
       "    <tr>\n",
       "      <th>1</th>\n",
       "      <td>2349</td>\n",
       "      <td>ham</td>\n",
       "      <td>Subject: hpl nom for january 9 , 2001\\r\\n( see...</td>\n",
       "      <td>0</td>\n",
       "    </tr>\n",
       "    <tr>\n",
       "      <th>2</th>\n",
       "      <td>3624</td>\n",
       "      <td>ham</td>\n",
       "      <td>Subject: neon retreat\\r\\nho ho ho , we ' re ar...</td>\n",
       "      <td>0</td>\n",
       "    </tr>\n",
       "    <tr>\n",
       "      <th>3</th>\n",
       "      <td>4685</td>\n",
       "      <td>spam</td>\n",
       "      <td>Subject: photoshop , windows , office . cheap ...</td>\n",
       "      <td>1</td>\n",
       "    </tr>\n",
       "    <tr>\n",
       "      <th>4</th>\n",
       "      <td>2030</td>\n",
       "      <td>ham</td>\n",
       "      <td>Subject: re : indian springs\\r\\nthis deal is t...</td>\n",
       "      <td>0</td>\n",
       "    </tr>\n",
       "  </tbody>\n",
       "</table>\n",
       "</div>"
      ],
      "text/plain": [
       "   Unnamed: 0 label                                               text  \\\n",
       "0         605   ham  Subject: enron methanol ; meter # : 988291\\r\\n...   \n",
       "1        2349   ham  Subject: hpl nom for january 9 , 2001\\r\\n( see...   \n",
       "2        3624   ham  Subject: neon retreat\\r\\nho ho ho , we ' re ar...   \n",
       "3        4685  spam  Subject: photoshop , windows , office . cheap ...   \n",
       "4        2030   ham  Subject: re : indian springs\\r\\nthis deal is t...   \n",
       "\n",
       "   label_num  \n",
       "0          0  \n",
       "1          0  \n",
       "2          0  \n",
       "3          1  \n",
       "4          0  "
      ]
     },
     "execution_count": 2,
     "metadata": {},
     "output_type": "execute_result"
    }
   ],
   "source": [
    "data_set=pd.read_csv(\"spam_ham_dataset.csv\")\n",
    "data_set.head(5)"
   ]
  },
  {
   "cell_type": "code",
   "execution_count": 3,
   "metadata": {},
   "outputs": [
    {
     "data": {
      "text/plain": [
       "Unnamed: 0    0\n",
       "label         0\n",
       "text          0\n",
       "label_num     0\n",
       "dtype: int64"
      ]
     },
     "execution_count": 3,
     "metadata": {},
     "output_type": "execute_result"
    }
   ],
   "source": [
    "data_set.isna().sum()"
   ]
  },
  {
   "cell_type": "code",
   "execution_count": 4,
   "metadata": {},
   "outputs": [],
   "source": [
    "import re\n",
    "from nltk.stem.porter import PorterStemmer\n",
    "from nltk.corpus import stopwords"
   ]
  },
  {
   "cell_type": "code",
   "execution_count": 11,
   "metadata": {},
   "outputs": [],
   "source": [
    "corpus=[]\n",
    "\n",
    "for i in range(len(data_set)):\n",
    "    spam_check=re.sub(\"[^a-zA-Z]\",' ',data_set[\"text\"][i])\n",
    "    # spam_check=re.sub(\"[subject]\",' ',spam_check)\n",
    "    spam_check=spam_check.lower()\n",
    "    spam_check=spam_check.split()\n",
    "    ps=PorterStemmer()\n",
    "    all_stopwords=stopwords.words(\"english\")\n",
    "    all_stopwords.remove(\"not\")\n",
    "    spam_check=[ps.stem(word) for word in spam_check if not word in set(all_stopwords)]\n",
    "    spam_check=' '.join(spam_check)\n",
    "    corpus.append(spam_check)"
   ]
  },
  {
   "cell_type": "code",
   "execution_count": 18,
   "metadata": {},
   "outputs": [],
   "source": [
    "from sklearn.feature_extraction.text import CountVectorizer\n",
    "cv=CountVectorizer(max_features=1600)\n",
    "x=cv.fit_transform(corpus).toarray()\n",
    "y=data_set.iloc[:,-1].values"
   ]
  },
  {
   "cell_type": "code",
   "execution_count": 20,
   "metadata": {},
   "outputs": [],
   "source": [
    "from sklearn.model_selection import train_test_split\n",
    "x_train,x_test,y_train,y_test=train_test_split(x,y,test_size=0.1,random_state=42)"
   ]
  },
  {
   "cell_type": "markdown",
   "metadata": {},
   "source": [
    "## Logistic Regression"
   ]
  },
  {
   "cell_type": "code",
   "execution_count": 21,
   "metadata": {},
   "outputs": [
    {
     "data": {
      "text/plain": [
       "LogisticRegression()"
      ]
     },
     "execution_count": 21,
     "metadata": {},
     "output_type": "execute_result"
    }
   ],
   "source": [
    "from sklearn.linear_model import LogisticRegression\n",
    "log_classifier=LogisticRegression()\n",
    "log_classifier.fit(x_train,y_train)"
   ]
  },
  {
   "cell_type": "code",
   "execution_count": 22,
   "metadata": {},
   "outputs": [
    {
     "data": {
      "text/plain": [
       "0.9959166129378896"
      ]
     },
     "execution_count": 22,
     "metadata": {},
     "output_type": "execute_result"
    }
   ],
   "source": [
    "log_classifier.score(x_train,y_train)"
   ]
  },
  {
   "cell_type": "code",
   "execution_count": 23,
   "metadata": {},
   "outputs": [
    {
     "data": {
      "text/plain": [
       "0.972972972972973"
      ]
     },
     "execution_count": 23,
     "metadata": {},
     "output_type": "execute_result"
    }
   ],
   "source": [
    "log_classifier.score(x_test,y_test)"
   ]
  },
  {
   "cell_type": "code",
   "execution_count": 24,
   "metadata": {},
   "outputs": [],
   "source": [
    "y_train_pred=log_classifier.predict(x_train)\n",
    "y_test_pred=log_classifier.predict(x_test)"
   ]
  },
  {
   "cell_type": "code",
   "execution_count": 25,
   "metadata": {},
   "outputs": [
    {
     "name": "stdout",
     "output_type": "stream",
     "text": [
      "Confusion Matrix of Train:\n",
      " [[3283   18]\n",
      " [   1 1351]]\n",
      "Confusion Matrix of Test:\n",
      " [[361  10]\n",
      " [  4 143]]\n"
     ]
    }
   ],
   "source": [
    "from sklearn.metrics import confusion_matrix\n",
    "print(\"Confusion Matrix of Train:\\n\",confusion_matrix(y_train,y_train_pred))\n",
    "print(\"Confusion Matrix of Test:\\n\",confusion_matrix(y_test,y_test_pred))"
   ]
  },
  {
   "cell_type": "markdown",
   "metadata": {},
   "source": [
    "## SVC"
   ]
  },
  {
   "cell_type": "code",
   "execution_count": 26,
   "metadata": {},
   "outputs": [
    {
     "data": {
      "text/plain": [
       "SVC(random_state=42)"
      ]
     },
     "execution_count": 26,
     "metadata": {},
     "output_type": "execute_result"
    }
   ],
   "source": [
    "from sklearn.svm import SVC\n",
    "svc_classifier=SVC(kernel=\"rbf\",random_state=42)\n",
    "svc_classifier.fit(x_train,y_train)"
   ]
  },
  {
   "cell_type": "code",
   "execution_count": 27,
   "metadata": {},
   "outputs": [
    {
     "data": {
      "text/plain": [
       "0.968407479045777"
      ]
     },
     "execution_count": 27,
     "metadata": {},
     "output_type": "execute_result"
    }
   ],
   "source": [
    "svc_classifier.score(x_train,y_train)"
   ]
  },
  {
   "cell_type": "code",
   "execution_count": 28,
   "metadata": {},
   "outputs": [
    {
     "data": {
      "text/plain": [
       "0.9536679536679536"
      ]
     },
     "execution_count": 28,
     "metadata": {},
     "output_type": "execute_result"
    }
   ],
   "source": [
    "svc_classifier.score(x_test,y_test)"
   ]
  },
  {
   "cell_type": "code",
   "execution_count": 30,
   "metadata": {},
   "outputs": [
    {
     "name": "stdout",
     "output_type": "stream",
     "text": [
      "Train Confusion Matrix:\n",
      " [[3163  138]\n",
      " [   9 1343]]\n",
      "Test Confusion Matrix:\n",
      " [[352  19]\n",
      " [  5 142]]\n"
     ]
    }
   ],
   "source": [
    "y_train_pred=svc_classifier.predict(x_train)\n",
    "y_test_pred=svc_classifier.predict(x_test)\n",
    "\n",
    "from sklearn.metrics import confusion_matrix\n",
    "print(\"Train Confusion Matrix:\\n\",confusion_matrix(y_train,y_train_pred))\n",
    "print(\"Test Confusion Matrix:\\n\",confusion_matrix(y_test,y_test_pred))"
   ]
  },
  {
   "cell_type": "markdown",
   "metadata": {},
   "source": [
    "## KNN"
   ]
  },
  {
   "cell_type": "code",
   "execution_count": 31,
   "metadata": {},
   "outputs": [
    {
     "data": {
      "text/plain": [
       "KNeighborsClassifier()"
      ]
     },
     "execution_count": 31,
     "metadata": {},
     "output_type": "execute_result"
    }
   ],
   "source": [
    "from sklearn.neighbors import KNeighborsClassifier\n",
    "knn_classifier=KNeighborsClassifier(metric=\"minkowski\",p=2)\n",
    "knn_classifier.fit(x_train,y_train)"
   ]
  },
  {
   "cell_type": "code",
   "execution_count": 32,
   "metadata": {},
   "outputs": [
    {
     "name": "stdout",
     "output_type": "stream",
     "text": [
      "Train Score: 0.968407479045777\n",
      "Test Score: 0.9536679536679536\n"
     ]
    }
   ],
   "source": [
    "print(\"Train Score:\",svc_classifier.score(x_train,y_train))\n",
    "print(\"Test Score:\",svc_classifier.score(x_test,y_test))"
   ]
  },
  {
   "cell_type": "code",
   "execution_count": 33,
   "metadata": {},
   "outputs": [
    {
     "name": "stdout",
     "output_type": "stream",
     "text": [
      "Train Confusion Matrix:\n",
      " [[2908  393]\n",
      " [  21 1331]]\n",
      "Test Confusion Matrix:\n",
      " [[304  67]\n",
      " [  7 140]]\n"
     ]
    }
   ],
   "source": [
    "y_train_pred=knn_classifier.predict(x_train)\n",
    "y_test_pred=knn_classifier.predict(x_test)\n",
    "\n",
    "from sklearn.metrics import confusion_matrix\n",
    "print(\"Train Confusion Matrix:\\n\",confusion_matrix(y_train,y_train_pred))\n",
    "print(\"Test Confusion Matrix:\\n\",confusion_matrix(y_test,y_test_pred))"
   ]
  },
  {
   "cell_type": "markdown",
   "metadata": {},
   "source": [
    "## Decision Tree"
   ]
  },
  {
   "cell_type": "code",
   "execution_count": 35,
   "metadata": {},
   "outputs": [
    {
     "data": {
      "text/plain": [
       "DecisionTreeClassifier(criterion='entropy', random_state=42)"
      ]
     },
     "execution_count": 35,
     "metadata": {},
     "output_type": "execute_result"
    }
   ],
   "source": [
    "from sklearn.tree import DecisionTreeClassifier\n",
    "tree_classifier=DecisionTreeClassifier(criterion=\"entropy\",random_state=42)\n",
    "tree_classifier.fit(x_train,y_train)"
   ]
  },
  {
   "cell_type": "code",
   "execution_count": 36,
   "metadata": {},
   "outputs": [
    {
     "name": "stdout",
     "output_type": "stream",
     "text": [
      "Train Score: 0.9993552546744036\n",
      "Test Score: 0.9401544401544402\n"
     ]
    }
   ],
   "source": [
    "print(\"Train Score:\",tree_classifier.score(x_train,y_train))\n",
    "print(\"Test Score:\",tree_classifier.score(x_test,y_test))"
   ]
  },
  {
   "cell_type": "code",
   "execution_count": 37,
   "metadata": {},
   "outputs": [
    {
     "name": "stdout",
     "output_type": "stream",
     "text": [
      "Train Confusion Matrix:\n",
      " [[3298    3]\n",
      " [   0 1352]]\n",
      "Test Confusion Matrix:\n",
      " [[353  18]\n",
      " [ 13 134]]\n"
     ]
    }
   ],
   "source": [
    "y_train_pred=tree_classifier.predict(x_train)\n",
    "y_test_pred=tree_classifier.predict(x_test)\n",
    "\n",
    "from sklearn.metrics import confusion_matrix\n",
    "print(\"Train Confusion Matrix:\\n\",confusion_matrix(y_train,y_train_pred))\n",
    "print(\"Test Confusion Matrix:\\n\",confusion_matrix(y_test,y_test_pred))"
   ]
  },
  {
   "cell_type": "markdown",
   "metadata": {},
   "source": [
    "## ANN"
   ]
  },
  {
   "cell_type": "code",
   "execution_count": 38,
   "metadata": {},
   "outputs": [],
   "source": [
    "from keras.layers import Dense\n",
    "from keras.models import Sequential"
   ]
  },
  {
   "cell_type": "code",
   "execution_count": 39,
   "metadata": {},
   "outputs": [],
   "source": [
    "model=Sequential()\n",
    "model.add(Dense(units=50,activation=\"relu\",input_shape=x_train.shape))\n",
    "model.add(Dense(units=20,activation=\"relu\"))\n",
    "model.add(Dense(units=1,activation=\"sigmoid\"))\n",
    "model.compile(optimizer=\"adam\",loss=\"binary_crossentropy\",metrics=[\"accuracy\"])"
   ]
  },
  {
   "cell_type": "code",
   "execution_count": 40,
   "metadata": {},
   "outputs": [
    {
     "name": "stdout",
     "output_type": "stream",
     "text": [
      "Epoch 1/20\n",
      "WARNING:tensorflow:Model was constructed with shape (None, 4653, 1600) for input KerasTensor(type_spec=TensorSpec(shape=(None, 4653, 1600), dtype=tf.float32, name='dense_input'), name='dense_input', description=\"created by layer 'dense_input'\"), but it was called on an input with incompatible shape (None, 1600).\n",
      "WARNING:tensorflow:Model was constructed with shape (None, 4653, 1600) for input KerasTensor(type_spec=TensorSpec(shape=(None, 4653, 1600), dtype=tf.float32, name='dense_input'), name='dense_input', description=\"created by layer 'dense_input'\"), but it was called on an input with incompatible shape (None, 1600).\n",
      "146/146 [==============================] - 2s 2ms/step - loss: 0.2490 - accuracy: 0.8960\n",
      "Epoch 2/20\n",
      "146/146 [==============================] - 0s 2ms/step - loss: 0.0554 - accuracy: 0.9871\n",
      "Epoch 3/20\n",
      "146/146 [==============================] - 0s 2ms/step - loss: 0.0259 - accuracy: 0.9914\n",
      "Epoch 4/20\n",
      "146/146 [==============================] - 0s 2ms/step - loss: 0.0147 - accuracy: 0.9966\n",
      "Epoch 5/20\n",
      "146/146 [==============================] - 0s 2ms/step - loss: 0.0094 - accuracy: 0.9983\n",
      "Epoch 6/20\n",
      "146/146 [==============================] - 0s 2ms/step - loss: 0.0064 - accuracy: 0.9987\n",
      "Epoch 7/20\n",
      "146/146 [==============================] - 0s 2ms/step - loss: 0.0049 - accuracy: 0.9994\n",
      "Epoch 8/20\n",
      "146/146 [==============================] - 0s 2ms/step - loss: 0.0041 - accuracy: 0.9994\n",
      "Epoch 9/20\n",
      "146/146 [==============================] - 0s 2ms/step - loss: 0.0035 - accuracy: 0.9994\n",
      "Epoch 10/20\n",
      "146/146 [==============================] - 0s 2ms/step - loss: 0.0032 - accuracy: 0.9994\n",
      "Epoch 11/20\n",
      "146/146 [==============================] - 0s 2ms/step - loss: 0.0030 - accuracy: 0.9994\n",
      "Epoch 12/20\n",
      "146/146 [==============================] - 0s 2ms/step - loss: 0.0029 - accuracy: 0.9994\n",
      "Epoch 13/20\n",
      "146/146 [==============================] - 0s 2ms/step - loss: 0.0028 - accuracy: 0.9994\n",
      "Epoch 14/20\n",
      "146/146 [==============================] - 0s 2ms/step - loss: 0.0027 - accuracy: 0.9994\n",
      "Epoch 15/20\n",
      "146/146 [==============================] - 0s 2ms/step - loss: 0.0027 - accuracy: 0.9994\n",
      "Epoch 16/20\n",
      "146/146 [==============================] - 0s 2ms/step - loss: 0.0026 - accuracy: 0.9994\n",
      "Epoch 17/20\n",
      "146/146 [==============================] - 0s 2ms/step - loss: 0.0026 - accuracy: 0.9994\n",
      "Epoch 18/20\n",
      "146/146 [==============================] - 0s 2ms/step - loss: 0.0024 - accuracy: 0.9994\n",
      "Epoch 19/20\n",
      "146/146 [==============================] - 0s 2ms/step - loss: 0.0025 - accuracy: 0.9994\n",
      "Epoch 20/20\n",
      "146/146 [==============================] - 0s 2ms/step - loss: 0.0024 - accuracy: 0.9994\n"
     ]
    },
    {
     "data": {
      "text/plain": [
       "<keras.callbacks.History at 0x184584e9970>"
      ]
     },
     "execution_count": 40,
     "metadata": {},
     "output_type": "execute_result"
    }
   ],
   "source": [
    "model.fit(x_train,y_train,epochs=20)"
   ]
  },
  {
   "cell_type": "code",
   "execution_count": 49,
   "metadata": {},
   "outputs": [],
   "source": [
    "y_train_pred=model.predict(x_train)\n",
    "y_test_pred=model.predict(x_test)"
   ]
  },
  {
   "cell_type": "code",
   "execution_count": 51,
   "metadata": {},
   "outputs": [],
   "source": [
    "y_train_pred=(y_train_pred>0.5)\n",
    "y_test_pred=(y_test_pred>0.5)"
   ]
  },
  {
   "cell_type": "code",
   "execution_count": 52,
   "metadata": {},
   "outputs": [],
   "source": [
    "y_train_pred=np.multiply(y_train_pred,1)\n",
    "y_test_pred=np.multiply(y_test_pred,1)"
   ]
  },
  {
   "cell_type": "code",
   "execution_count": 60,
   "metadata": {},
   "outputs": [
    {
     "name": "stdout",
     "output_type": "stream",
     "text": [
      "Train Accuracy Score: 0.9993552546744036\n",
      "Test Accuracy Score: 0.974903474903475\n",
      "Train Confusion Matrix:\n",
      " [[3298    3]\n",
      " [   0 1352]]\n",
      "Test Confusion Matrix:\n",
      " [[367   4]\n",
      " [  9 138]]\n"
     ]
    }
   ],
   "source": [
    "from sklearn.metrics import accuracy_score,confusion_matrix\n",
    "\n",
    "print(\"Train Accuracy Score:\",accuracy_score(y_train,y_train_pred))\n",
    "print(\"Test Accuracy Score:\",accuracy_score(y_test,y_test_pred))\n",
    "\n",
    "print(\"Train Confusion Matrix:\\n\",confusion_matrix(y_train,y_train_pred))\n",
    "print(\"Test Confusion Matrix:\\n\",confusion_matrix(y_test,y_test_pred))"
   ]
  },
  {
   "cell_type": "markdown",
   "metadata": {},
   "source": [
    "## Testing a random data"
   ]
  },
  {
   "cell_type": "code",
   "execution_count": 77,
   "metadata": {},
   "outputs": [],
   "source": [
    "test='Subject: re : tenaska iv 10 / 00'\n",
    "test_corpus=[]\n",
    "\n",
    "test_check=re.sub(\"[^a-zA-Z]\",' ',test)\n",
    "test_check=test_check.lower()\n",
    "test_check=test_check.split()\n",
    "ps=PorterStemmer()\n",
    "all_stopwords=stopwords.words(\"english\")\n",
    "all_stopwords.remove(\"not\")\n",
    "test_check=[ps.stem(word) for word in test_check if not word in set(all_stopwords)]\n",
    "test_check=' '.join(test_check)\n",
    "test_corpus.append(test_check)"
   ]
  },
  {
   "cell_type": "code",
   "execution_count": 78,
   "metadata": {},
   "outputs": [
    {
     "data": {
      "text/plain": [
       "array([[0]])"
      ]
     },
     "execution_count": 78,
     "metadata": {},
     "output_type": "execute_result"
    }
   ],
   "source": [
    "test=cv.transform(test_corpus).toarray()\n",
    "predict=model.predict(test)\n",
    "\n",
    "np.multiply((predict>0.5),1)"
   ]
  },
  {
   "cell_type": "code",
   "execution_count": null,
   "metadata": {},
   "outputs": [],
   "source": []
  }
 ],
 "metadata": {
  "interpreter": {
   "hash": "247ab06e135bb35fa78c5eff31b2a9a0050dcb5fb773c2631d2a29ac689eeccb"
  },
  "kernelspec": {
   "display_name": "Python 3.9.7 64-bit",
   "name": "python3"
  },
  "language_info": {
   "codemirror_mode": {
    "name": "ipython",
    "version": 3
   },
   "file_extension": ".py",
   "mimetype": "text/x-python",
   "name": "python",
   "nbconvert_exporter": "python",
   "pygments_lexer": "ipython3",
   "version": "3.9.7"
  },
  "orig_nbformat": 4
 },
 "nbformat": 4,
 "nbformat_minor": 2
}
